{
  "nbformat": 4,
  "nbformat_minor": 0,
  "metadata": {
    "colab": {
      "provenance": [],
      "authorship_tag": "ABX9TyPiOxcZTXBRBOabelf/w/ea",
      "include_colab_link": true
    },
    "kernelspec": {
      "name": "python3",
      "display_name": "Python 3"
    },
    "language_info": {
      "name": "python"
    }
  },
  "cells": [
    {
      "cell_type": "markdown",
      "metadata": {
        "id": "view-in-github",
        "colab_type": "text"
      },
      "source": [
        "<a href=\"https://colab.research.google.com/github/Syamarafunalfa/Proyec-5/blob/main/Untitled0.ipynb\" target=\"_parent\"><img src=\"https://colab.research.google.com/assets/colab-badge.svg\" alt=\"Open In Colab\"/></a>"
      ]
    },
    {
      "cell_type": "code",
      "source": [
        "# Test de Personalidad: Evaluación para derivación a Psicología (Estudiantes 20-30 años, Posadas, Misiones)\n",
        "\n",
        "print(\"Bienvenido al Test de Personalidad. Por favor, responde con la mayor sinceridad posible.\")\n",
        "print(\"Este test tiene como objetivo evaluar ciertos aspectos de tu personalidad para considerar la necesidad de una derivación a un profesional de la psicología.\")\n",
        "print(\"-\" * 50)\n",
        "\n",
        "# Sección 1: Tolerancia al Riesgo\n",
        "\n",
        "print(\"\\nSección 1: Tolerancia al Riesgo\")\n",
        "print(\"Por favor, indica tu nivel de acuerdo con las siguientes afirmaciones (1: Totalmente en desacuerdo, 5: Totalmente de acuerdo):\")\n",
        "\n",
        "preguntas_riesgo = [\n",
        "    \"1. Me siento cómodo tomando decisiones importantes sin tener toda la información.\",\n",
        "    \"2. Disfruto probando cosas nuevas, incluso si implican un riesgo.\",\n",
        "    \"3. Tiendo a evitar situaciones que me generan incertidumbre.\",\n",
        "    \"4. Considero que es importante tener un plan detallado antes de actuar.\",\n",
        "    \"5. Me adapto fácilmente a los cambios inesperados.\"\n",
        "]\n",
        "\n",
        "respuestas_riesgo = {}\n",
        "for i, pregunta in enumerate(preguntas_riesgo):\n",
        "    while True:\n",
        "        try:\n",
        "            respuesta = int(input(pregunta + \" \"))\n",
        "            if 1 <= respuesta <= 5:\n",
        "                respuestas_riesgo[f'riesgo_{i+1}'] = respuesta\n",
        "                break\n",
        "            else:\n",
        "                print(\"Por favor, ingresa un número entre 1 y 5.\")\n",
        "        except ValueError:\n",
        "            print(\"Entrada inválida. Por favor, ingresa un número.\")\n",
        "\n",
        "# Sección 2: Motivación\n",
        "\n",
        "print(\"\\nSección 2: Motivación\")\n",
        "print(\"Por favor, indica tu nivel de acuerdo con las siguientes afirmaciones (1: Totalmente en desacuerdo, 5: Totalmente de acuerdo):\")\n",
        "\n",
        "preguntas_motivacion = [\n",
        "    \"6. Tengo metas claras y trabajo activamente para alcanzarlas.\",\n",
        "    \"7. Me siento motivado para superar obstáculos y desafíos.\",\n",
        "    \"8. A menudo me cuesta encontrar la energía para iniciar tareas.\",\n",
        "    \"9. Me desanimo fácilmente cuando las cosas no salen como esperaba.\",\n",
        "    \"10. Disfruto aprendiendo cosas nuevas y mejorando mis habilidades.\"\n",
        "]\n",
        "\n",
        "respuestas_motivacion = {}\n",
        "for i, pregunta in enumerate(preguntas_motivacion):\n",
        "    while True:\n",
        "        try:\n",
        "            respuesta = int(input(pregunta + \" \"))\n",
        "            if 1 <= respuesta <= 5:\n",
        "                respuestas_motivacion[f'motivacion_{i+1}'] = respuesta\n",
        "                break\n",
        "            else:\n",
        "                print(\"Por favor, ingresa un número entre 1 y 5.\")\n",
        "        except ValueError:\n",
        "            print(\"Entrada inválida. Por favor, ingresa un número.\")\n",
        "\n",
        "# Validación Cruzada (Ejemplo simple: correlación entre algunas respuestas)\n",
        "# En un test real, se usarían métodos estadísticos más robustos y un conjunto de preguntas más amplio.\n",
        "\n",
        "print(\"\\nRealizando análisis...\")\n",
        "\n",
        "# Calcular puntajes brutos (ejemplo simple)\n",
        "puntaje_riesgo = sum(respuestas_riesgo.values())\n",
        "puntaje_motivacion = sum(respuestas_motivacion.values())\n",
        "\n",
        "print(\"-\" * 50)\n",
        "print(\"\\nResultados preliminares:\")\n",
        "print(f\"Puntaje de Tolerancia al Riesgo: {puntaje_riesgo}/25\")\n",
        "print(f\"Puntaje de Motivación: {puntaje_motivacion}/25\")\n",
        "\n",
        "# Interpretación y Sugerencia de Derivación (Ejemplo muy básico)\n",
        "print(\"\\nInterpretación y Sugerencia:\")\n",
        "\n",
        "# Criterios de derivación (ejemplo)\n",
        "umbral_riesgo_bajo = 10\n",
        "umbral_motivacion_baja = 10\n",
        "umbral_riesgo_alto = 20\n",
        "umbral_motivacion_alta = 20\n",
        "\n",
        "sugerir_derivacion = False\n",
        "\n",
        "if puntaje_riesgo < umbral_riesgo_bajo:\n",
        "    print(\"- Tu puntaje en Tolerancia al Riesgo es bajo. Podrías beneficiarte explorando tus miedos o aversión al riesgo con un profesional.\")\n",
        "    sugerir_derivacion = True\n",
        "elif puntaje_riesgo > umbral_riesgo_alto:\n",
        "    print(\"- Tu puntaje en Tolerancia al Riesgo es alto. Si bien esto puede ser positivo en algunos contextos, es importante evaluar si te expones a riesgos innecesarios. Un profesional podría ayudarte a explorar esto.\")\n",
        "    sugerir_derivacion = True\n",
        "\n",
        "if puntaje_motivacion < umbral_motivacion_baja:\n",
        "    print(\"- Tu puntaje en Motivación es bajo. Explorar las causas de la falta de motivación y establecer estrategias puede ser útil. Se sugiere considerar una consulta psicológica.\")\n",
        "    sugerir_derivacion = True\n",
        "elif puntaje_motivacion > umbral_motivacion_alta:\n",
        "     print(\"- Tu puntaje en Motivación es alto. Es importante asegurarse de que esta motivación esté alineada con tu bienestar y no te lleve a la sobreexigencia. Un profesional puede ayudarte a encontrar un equilibrio.\")\n",
        "     sugerir_derivacion = True\n",
        "\n",
        "# Validación cruzada simple: ¿Hay una correlación inversa entre la pregunta 3 (evitar incertidumbre) y la pregunta 7 (superar obstáculos)?\n",
        "# Si alguien evita la incertidumbre (alto puntaje en preg 3) y le cuesta superar obstáculos (bajo puntaje en preg 7), podría indicar un área a explorar.\n",
        "if respuestas_riesgo.get('riesgo_3', 0) > 3 and respuestas_motivacion.get('motivacion_2', 0) < 3:\n",
        "     print(\"- Se observa una posible relación entre evitar la incertidumbre y la dificultad para superar obstáculos. Esto podría ser un área a explorar con un profesional.\")\n",
        "     sugerir_derivacion = True\n",
        "\n",
        "if sugerir_derivacion:\n",
        "    print(\"\\nBasado en tus respuestas, podría ser beneficioso explorar algunos aspectos con un profesional de la psicología. Esto es solo una sugerencia preliminar.\")\n",
        "else:\n",
        "    print(\"\\nBasado en tus respuestas preliminares, no hay una indicación clara de necesidad de derivación en este momento. Sin embargo, si sientes que necesitas apoyo, no dudes en buscar un profesional.\")\n",
        "\n",
        "print(\"-\" * 50)\n",
        "print(\"Gracias por completar el test.\")\n",
        "\n",
        "# Nota: Este es un test simplificado con fines demostrativos. Un test psicométrico real requiere diseño, validación y baremación profesional."
      ],
      "metadata": {
        "colab": {
          "base_uri": "https://localhost:8080/"
        },
        "id": "xI1B53fFr_04",
        "outputId": "1e20f864-35ce-4d86-d859-78291a4cc294"
      },
      "execution_count": 2,
      "outputs": [
        {
          "output_type": "stream",
          "name": "stdout",
          "text": [
            "Bienvenido al Test de Personalidad. Por favor, responde con la mayor sinceridad posible.\n",
            "Este test tiene como objetivo evaluar ciertos aspectos de tu personalidad para considerar la necesidad de una derivación a un profesional de la psicología.\n",
            "--------------------------------------------------\n",
            "\n",
            "Sección 1: Tolerancia al Riesgo\n",
            "Por favor, indica tu nivel de acuerdo con las siguientes afirmaciones (1: Totalmente en desacuerdo, 5: Totalmente de acuerdo):\n",
            "1. Me siento cómodo tomando decisiones importantes sin tener toda la información. 3\n",
            "2. Disfruto probando cosas nuevas, incluso si implican un riesgo. 3\n",
            "3. Tiendo a evitar situaciones que me generan incertidumbre. 4\n",
            "4. Considero que es importante tener un plan detallado antes de actuar. 4\n",
            "5. Me adapto fácilmente a los cambios inesperados. 5\n",
            "\n",
            "Sección 2: Motivación\n",
            "Por favor, indica tu nivel de acuerdo con las siguientes afirmaciones (1: Totalmente en desacuerdo, 5: Totalmente de acuerdo):\n",
            "6. Tengo metas claras y trabajo activamente para alcanzarlas. 5\n",
            "7. Me siento motivado para superar obstáculos y desafíos. 5\n",
            "8. A menudo me cuesta encontrar la energía para iniciar tareas. 3\n",
            "9. Me desanimo fácilmente cuando las cosas no salen como esperaba. 2\n",
            "10. Disfruto aprendiendo cosas nuevas y mejorando mis habilidades. 5\n",
            "\n",
            "Realizando análisis...\n",
            "--------------------------------------------------\n",
            "\n",
            "Resultados preliminares:\n",
            "Puntaje de Tolerancia al Riesgo: 19/25\n",
            "Puntaje de Motivación: 20/25\n",
            "\n",
            "Interpretación y Sugerencia:\n",
            "\n",
            "Basado en tus respuestas preliminares, no hay una indicación clara de necesidad de derivación en este momento. Sin embargo, si sientes que necesitas apoyo, no dudes en buscar un profesional.\n",
            "--------------------------------------------------\n",
            "Gracias por completar el test.\n"
          ]
        }
      ]
    },
    {
      "cell_type": "code",
      "execution_count": 1,
      "metadata": {
        "colab": {
          "base_uri": "https://localhost:8080/"
        },
        "id": "ZLU1MwbfrGWK",
        "outputId": "0625f6b7-f9a7-4207-af9d-ffe61699aeab"
      },
      "outputs": [
        {
          "output_type": "execute_result",
          "data": {
            "text/plain": [
              "4"
            ]
          },
          "metadata": {},
          "execution_count": 1
        }
      ],
      "source": [
        "1+3"
      ]
    }
  ]
}